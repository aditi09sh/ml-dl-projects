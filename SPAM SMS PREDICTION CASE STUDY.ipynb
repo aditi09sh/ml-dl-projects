{
 "cells": [
  {
   "cell_type": "markdown",
   "metadata": {},
   "source": [
    "# Spam SMS Prediction Case Study\n",
    "\n",
    "### Problem Statement:\n",
    "We have the data containing sms and the class they belong to i.e, spam/ham. We need to build a classifier model which can classify the sms into ham/spam class.\n",
    "\n",
    "## Naive Bayes Model."
   ]
  },
  {
   "cell_type": "code",
   "execution_count": 1,
   "metadata": {},
   "outputs": [],
   "source": [
    "import numpy as np, pandas as pd\n",
    "import matplotlib.pyplot as plt\n",
    "import seaborn as sns\n",
    "import warnings\n",
    "warnings.filterwarnings('ignore')\n",
    "\n",
    "import sklearn\n",
    "from sklearn.model_selection import train_test_split\n",
    "from sklearn.feature_extraction.text import CountVectorizer\n",
    "from sklearn import metrics\n",
    "from sklearn.naive_bayes import MultinomialNB, BernoulliNB"
   ]
  },
  {
   "cell_type": "code",
   "execution_count": 2,
   "metadata": {},
   "outputs": [
    {
     "data": {
      "text/html": [
       "<div>\n",
       "<style scoped>\n",
       "    .dataframe tbody tr th:only-of-type {\n",
       "        vertical-align: middle;\n",
       "    }\n",
       "\n",
       "    .dataframe tbody tr th {\n",
       "        vertical-align: top;\n",
       "    }\n",
       "\n",
       "    .dataframe thead th {\n",
       "        text-align: right;\n",
       "    }\n",
       "</style>\n",
       "<table border=\"1\" class=\"dataframe\">\n",
       "  <thead>\n",
       "    <tr style=\"text-align: right;\">\n",
       "      <th></th>\n",
       "      <th>Class</th>\n",
       "      <th>sms</th>\n",
       "    </tr>\n",
       "  </thead>\n",
       "  <tbody>\n",
       "    <tr>\n",
       "      <th>0</th>\n",
       "      <td>ham</td>\n",
       "      <td>Go until jurong point, crazy.. Available only ...</td>\n",
       "    </tr>\n",
       "    <tr>\n",
       "      <th>1</th>\n",
       "      <td>ham</td>\n",
       "      <td>Ok lar... Joking wif u oni...</td>\n",
       "    </tr>\n",
       "    <tr>\n",
       "      <th>2</th>\n",
       "      <td>spam</td>\n",
       "      <td>Free entry in 2 a wkly comp to win FA Cup fina...</td>\n",
       "    </tr>\n",
       "    <tr>\n",
       "      <th>3</th>\n",
       "      <td>ham</td>\n",
       "      <td>U dun say so early hor... U c already then say...</td>\n",
       "    </tr>\n",
       "    <tr>\n",
       "      <th>4</th>\n",
       "      <td>ham</td>\n",
       "      <td>Nah I don't think he goes to usf, he lives aro...</td>\n",
       "    </tr>\n",
       "    <tr>\n",
       "      <th>...</th>\n",
       "      <td>...</td>\n",
       "      <td>...</td>\n",
       "    </tr>\n",
       "    <tr>\n",
       "      <th>5567</th>\n",
       "      <td>spam</td>\n",
       "      <td>This is the 2nd time we have tried 2 contact u...</td>\n",
       "    </tr>\n",
       "    <tr>\n",
       "      <th>5568</th>\n",
       "      <td>ham</td>\n",
       "      <td>Will ü b going to esplanade fr home?</td>\n",
       "    </tr>\n",
       "    <tr>\n",
       "      <th>5569</th>\n",
       "      <td>ham</td>\n",
       "      <td>Pity, * was in mood for that. So...any other s...</td>\n",
       "    </tr>\n",
       "    <tr>\n",
       "      <th>5570</th>\n",
       "      <td>ham</td>\n",
       "      <td>The guy did some bitching but I acted like i'd...</td>\n",
       "    </tr>\n",
       "    <tr>\n",
       "      <th>5571</th>\n",
       "      <td>ham</td>\n",
       "      <td>Rofl. Its true to its name</td>\n",
       "    </tr>\n",
       "  </tbody>\n",
       "</table>\n",
       "<p>5572 rows × 2 columns</p>\n",
       "</div>"
      ],
      "text/plain": [
       "     Class                                                sms\n",
       "0      ham  Go until jurong point, crazy.. Available only ...\n",
       "1      ham                      Ok lar... Joking wif u oni...\n",
       "2     spam  Free entry in 2 a wkly comp to win FA Cup fina...\n",
       "3      ham  U dun say so early hor... U c already then say...\n",
       "4      ham  Nah I don't think he goes to usf, he lives aro...\n",
       "...    ...                                                ...\n",
       "5567  spam  This is the 2nd time we have tried 2 contact u...\n",
       "5568   ham               Will ü b going to esplanade fr home?\n",
       "5569   ham  Pity, * was in mood for that. So...any other s...\n",
       "5570   ham  The guy did some bitching but I acted like i'd...\n",
       "5571   ham                         Rofl. Its true to its name\n",
       "\n",
       "[5572 rows x 2 columns]"
      ]
     },
     "execution_count": 2,
     "metadata": {},
     "output_type": "execute_result"
    }
   ],
   "source": [
    "# readfing the text dataset\n",
    "df=pd.read_table('SMSSpamCollection.txt',header=None, names=['Class', 'sms'])\n",
    "df"
   ]
  },
  {
   "cell_type": "code",
   "execution_count": 3,
   "metadata": {},
   "outputs": [
    {
     "name": "stdout",
     "output_type": "stream",
     "text": [
      "<class 'pandas.core.frame.DataFrame'>\n",
      "RangeIndex: 5572 entries, 0 to 5571\n",
      "Data columns (total 2 columns):\n",
      " #   Column  Non-Null Count  Dtype \n",
      "---  ------  --------------  ----- \n",
      " 0   Class   5572 non-null   object\n",
      " 1   sms     5572 non-null   object\n",
      "dtypes: object(2)\n",
      "memory usage: 87.2+ KB\n"
     ]
    }
   ],
   "source": [
    "# checking for NaNs \n",
    "df.info()"
   ]
  },
  {
   "cell_type": "code",
   "execution_count": 4,
   "metadata": {},
   "outputs": [
    {
     "data": {
      "text/html": [
       "<div>\n",
       "<style scoped>\n",
       "    .dataframe tbody tr th:only-of-type {\n",
       "        vertical-align: middle;\n",
       "    }\n",
       "\n",
       "    .dataframe tbody tr th {\n",
       "        vertical-align: top;\n",
       "    }\n",
       "\n",
       "    .dataframe thead th {\n",
       "        text-align: right;\n",
       "    }\n",
       "</style>\n",
       "<table border=\"1\" class=\"dataframe\">\n",
       "  <thead>\n",
       "    <tr style=\"text-align: right;\">\n",
       "      <th></th>\n",
       "      <th>Class</th>\n",
       "      <th>sms</th>\n",
       "    </tr>\n",
       "  </thead>\n",
       "  <tbody>\n",
       "    <tr>\n",
       "      <th>0</th>\n",
       "      <td>0</td>\n",
       "      <td>Go until jurong point, crazy.. Available only ...</td>\n",
       "    </tr>\n",
       "    <tr>\n",
       "      <th>1</th>\n",
       "      <td>0</td>\n",
       "      <td>Ok lar... Joking wif u oni...</td>\n",
       "    </tr>\n",
       "    <tr>\n",
       "      <th>2</th>\n",
       "      <td>1</td>\n",
       "      <td>Free entry in 2 a wkly comp to win FA Cup fina...</td>\n",
       "    </tr>\n",
       "    <tr>\n",
       "      <th>3</th>\n",
       "      <td>0</td>\n",
       "      <td>U dun say so early hor... U c already then say...</td>\n",
       "    </tr>\n",
       "    <tr>\n",
       "      <th>4</th>\n",
       "      <td>0</td>\n",
       "      <td>Nah I don't think he goes to usf, he lives aro...</td>\n",
       "    </tr>\n",
       "    <tr>\n",
       "      <th>...</th>\n",
       "      <td>...</td>\n",
       "      <td>...</td>\n",
       "    </tr>\n",
       "    <tr>\n",
       "      <th>5567</th>\n",
       "      <td>1</td>\n",
       "      <td>This is the 2nd time we have tried 2 contact u...</td>\n",
       "    </tr>\n",
       "    <tr>\n",
       "      <th>5568</th>\n",
       "      <td>0</td>\n",
       "      <td>Will ü b going to esplanade fr home?</td>\n",
       "    </tr>\n",
       "    <tr>\n",
       "      <th>5569</th>\n",
       "      <td>0</td>\n",
       "      <td>Pity, * was in mood for that. So...any other s...</td>\n",
       "    </tr>\n",
       "    <tr>\n",
       "      <th>5570</th>\n",
       "      <td>0</td>\n",
       "      <td>The guy did some bitching but I acted like i'd...</td>\n",
       "    </tr>\n",
       "    <tr>\n",
       "      <th>5571</th>\n",
       "      <td>0</td>\n",
       "      <td>Rofl. Its true to its name</td>\n",
       "    </tr>\n",
       "  </tbody>\n",
       "</table>\n",
       "<p>5572 rows × 2 columns</p>\n",
       "</div>"
      ],
      "text/plain": [
       "      Class                                                sms\n",
       "0         0  Go until jurong point, crazy.. Available only ...\n",
       "1         0                      Ok lar... Joking wif u oni...\n",
       "2         1  Free entry in 2 a wkly comp to win FA Cup fina...\n",
       "3         0  U dun say so early hor... U c already then say...\n",
       "4         0  Nah I don't think he goes to usf, he lives aro...\n",
       "...     ...                                                ...\n",
       "5567      1  This is the 2nd time we have tried 2 contact u...\n",
       "5568      0               Will ü b going to esplanade fr home?\n",
       "5569      0  Pity, * was in mood for that. So...any other s...\n",
       "5570      0  The guy did some bitching but I acted like i'd...\n",
       "5571      0                         Rofl. Its true to its name\n",
       "\n",
       "[5572 rows x 2 columns]"
      ]
     },
     "execution_count": 4,
     "metadata": {},
     "output_type": "execute_result"
    }
   ],
   "source": [
    "# converting to binary categories\n",
    "df.Class=df.Class.replace({'spam':1,'ham':0})\n",
    "df"
   ]
  },
  {
   "cell_type": "code",
   "execution_count": 5,
   "metadata": {},
   "outputs": [],
   "source": [
    "# spliting the dataframe to train-test \n",
    "df_train,df_test=train_test_split(df,train_size=0.7,random_state=1)"
   ]
  },
  {
   "cell_type": "code",
   "execution_count": 6,
   "metadata": {},
   "outputs": [],
   "source": [
    "df_train=df_train.values\n",
    "df_test=df_test.values"
   ]
  },
  {
   "cell_type": "code",
   "execution_count": 7,
   "metadata": {},
   "outputs": [],
   "source": [
    "# splitting to x and y cases\n",
    "X_train=df_train[:,1]\n",
    "y_train=df_train[:,0].astype('int')\n",
    "X_test=df_test[:,1]\n",
    "y_test=df_test[:,0].astype('int')"
   ]
  },
  {
   "cell_type": "code",
   "execution_count": 8,
   "metadata": {},
   "outputs": [
    {
     "data": {
      "text/plain": [
       "array(['what are your new years plans?',\n",
       "       'Finally the match heading towards draw as your prediction.',\n",
       "       \"Lemme know when I can swing by and pick up, I'm free basically any time after 1 all this semester\",\n",
       "       ...,\n",
       "       'CERI U REBEL! SWEET DREAMZ ME LITTLE BUDDY!! C YA 2MORO! WHO NEEDS BLOKES',\n",
       "       'Text & meet someone sexy today. U can find a date or even flirt its up to U. Join 4 just 10p. REPLY with NAME & AGE eg Sam 25. 18 -msg recd@thirtyeight pence',\n",
       "       'K k:) sms chat with me.'], dtype=object)"
      ]
     },
     "execution_count": 8,
     "metadata": {},
     "output_type": "execute_result"
    }
   ],
   "source": [
    "X_train"
   ]
  },
  {
   "cell_type": "code",
   "execution_count": 9,
   "metadata": {},
   "outputs": [],
   "source": [
    "# initialising the countvector\n",
    "cv=CountVectorizer(stop_words='english')"
   ]
  },
  {
   "cell_type": "code",
   "execution_count": 10,
   "metadata": {},
   "outputs": [
    {
     "name": "stdout",
     "output_type": "stream",
     "text": [
      "  (0, 4272)\t1\n",
      "  (0, 6855)\t1\n",
      "  (0, 4682)\t1\n",
      "  (1, 2550)\t1\n",
      "  (1, 3930)\t1\n",
      "  (1, 3018)\t1\n",
      "  (1, 2202)\t1\n",
      "  (1, 4801)\t1\n",
      "  (2, 3650)\t1\n",
      "  (2, 3548)\t1\n",
      "  (2, 5957)\t1\n",
      "  (2, 4644)\t1\n",
      "  (2, 2663)\t1\n",
      "  (2, 1119)\t1\n",
      "  (2, 6163)\t1\n",
      "  (2, 5369)\t1\n",
      "  (3, 4406)\t1\n",
      "  (3, 1485)\t1\n",
      "  (3, 6353)\t1\n",
      "  (4, 3685)\t1\n",
      "  (4, 6043)\t1\n",
      "  (4, 2000)\t1\n",
      "  (4, 1949)\t1\n",
      "  (4, 2478)\t1\n",
      "  (4, 222)\t1\n",
      "  :\t:\n",
      "  (3897, 1542)\t1\n",
      "  (3897, 5026)\t1\n",
      "  (3897, 2207)\t1\n",
      "  (3897, 1386)\t1\n",
      "  (3897, 1252)\t1\n",
      "  (3898, 3472)\t1\n",
      "  (3898, 3435)\t1\n",
      "  (3898, 4148)\t1\n",
      "  (3898, 6074)\t1\n",
      "  (3898, 5115)\t1\n",
      "  (3898, 799)\t1\n",
      "  (3898, 6196)\t1\n",
      "  (3898, 243)\t1\n",
      "  (3898, 5399)\t1\n",
      "  (3898, 344)\t1\n",
      "  (3898, 295)\t1\n",
      "  (3898, 4584)\t1\n",
      "  (3898, 3966)\t1\n",
      "  (3898, 1959)\t1\n",
      "  (3898, 5273)\t1\n",
      "  (3898, 5031)\t1\n",
      "  (3898, 2590)\t1\n",
      "  (3898, 6122)\t1\n",
      "  (3899, 1574)\t1\n",
      "  (3899, 5590)\t1\n"
     ]
    }
   ],
   "source": [
    "# fit and transforming to get compressed spars matrix\n",
    "X_train_transformed=cv.fit_transform(X_train,y_train)\n",
    "X_test_transformed=cv.transform(X_test)\n",
    "print(X_train_transformed)"
   ]
  },
  {
   "cell_type": "code",
   "execution_count": 11,
   "metadata": {},
   "outputs": [
    {
     "data": {
      "text/plain": [
       "(3900, 6904)"
      ]
     },
     "execution_count": 11,
     "metadata": {},
     "output_type": "execute_result"
    }
   ],
   "source": [
    "# shape of spars matrix\n",
    "X_train_transformed.toarray().shape"
   ]
  },
  {
   "cell_type": "markdown",
   "metadata": {},
   "source": [
    "## Naive Bayes Model Building"
   ]
  },
  {
   "cell_type": "markdown",
   "metadata": {},
   "source": [
    "### **Multinomial Naive bayes.**"
   ]
  },
  {
   "cell_type": "code",
   "execution_count": 12,
   "metadata": {},
   "outputs": [
    {
     "data": {
      "text/plain": [
       "MultinomialNB()"
      ]
     },
     "execution_count": 12,
     "metadata": {},
     "output_type": "execute_result"
    }
   ],
   "source": [
    "mnb=MultinomialNB()\n",
    "mnb.fit(X_train_transformed,y_train)"
   ]
  },
  {
   "cell_type": "code",
   "execution_count": 13,
   "metadata": {},
   "outputs": [],
   "source": [
    "# predecting for trained data set\n",
    "y_train_pred_prob=mnb.predict_proba(X_train_transformed)\n",
    "y_train_pred_class=mnb.predict(X_train_transformed)\n",
    "## predecting for test data set\n",
    "y_test_pred_prob=mnb.predict_proba(X_test_transformed)\n",
    "y_test_pred_class=mnb.predict(X_test_transformed)"
   ]
  },
  {
   "cell_type": "code",
   "execution_count": 14,
   "metadata": {},
   "outputs": [
    {
     "name": "stdout",
     "output_type": "stream",
     "text": [
      "Train data set accuracy = 0.993846\n",
      "Test data set accuracy = 0.986244\n"
     ]
    }
   ],
   "source": [
    "# accuracy for train data set\n",
    "accuracy_train=metrics.accuracy_score(y_train,y_train_pred_class)\n",
    "print('Train data set accuracy = %f'%accuracy_train)\n",
    "\n",
    "# accuracy for test data set\n",
    "accuracy_test=metrics.accuracy_score(y_test,y_test_pred_class)\n",
    "print('Test data set accuracy = %f'%accuracy_test)"
   ]
  },
  {
   "cell_type": "code",
   "execution_count": 15,
   "metadata": {},
   "outputs": [
    {
     "data": {
      "text/plain": [
       "array([[1434,    8],\n",
       "       [  15,  215]], dtype=int64)"
      ]
     },
     "execution_count": 15,
     "metadata": {},
     "output_type": "execute_result"
    }
   ],
   "source": [
    "# confusion matrix\n",
    "conf_matrix=metrics.confusion_matrix(y_test,y_test_pred_class)\n",
    "conf_matrix"
   ]
  },
  {
   "cell_type": "code",
   "execution_count": 16,
   "metadata": {},
   "outputs": [
    {
     "name": "stdout",
     "output_type": "stream",
     "text": [
      "sensitivity = 0.934783\n",
      "specificity = 0.994452\n"
     ]
    }
   ],
   "source": [
    "# sensitivity and specificity for train data set\n",
    "sensitivity_train=conf_matrix[1,1]/(conf_matrix[1,0]+conf_matrix[1,1])\n",
    "print('sensitivity = %f'%sensitivity_train)\n",
    "specificity_train=conf_matrix[0,0]/(conf_matrix[0,1]+conf_matrix[0,0])\n",
    "print('specificity = %f'%specificity_train)"
   ]
  },
  {
   "cell_type": "code",
   "execution_count": 17,
   "metadata": {},
   "outputs": [],
   "source": [
    "def draw_roc(actual,pred):\n",
    "    fpr,tpr,threshold=metrics.roc_curve(actual,pred,drop_intermediate=False)\n",
    "    auc=metrics.roc_auc_score(actual,pred)\n",
    "    plt.plot(fpr,tpr,label='roc_auc= %f'%auc)\n",
    "    plt.legend(loc='lower right')\n",
    "    plt.title('ROC_curve')\n",
    "    plt.ylabel('True positive rate')\n",
    "    plt.xlabel('False positive rate')\n",
    "    "
   ]
  },
  {
   "cell_type": "code",
   "execution_count": 18,
   "metadata": {},
   "outputs": [],
   "source": [
    "auc_mult=metrics.roc_auc_score(y_test,y_test_pred_class)"
   ]
  },
  {
   "cell_type": "code",
   "execution_count": 19,
   "metadata": {},
   "outputs": [
    {
     "name": "stdout",
     "output_type": "stream",
     "text": [
      "accuracy = 0.986244\n",
      "sensitivity = 0.934783\n",
      "specificity = 0.994452\n"
     ]
    }
   ],
   "source": [
    "# Results\n",
    "print('accuracy = %f'%accuracy_test)\n",
    "print('sensitivity = %f'%sensitivity_train)\n",
    "print('specificity = %f'%specificity_train)"
   ]
  },
  {
   "cell_type": "code",
   "execution_count": 20,
   "metadata": {},
   "outputs": [
    {
     "data": {
      "image/png": "[encoded data removed]",
      "text/plain": [
       "<Figure size 432x288 with 1 Axes>"
      ]
     },
     "metadata": {
      "needs_background": "light"
     },
     "output_type": "display_data"
    }
   ],
   "source": [
    "# plotting ROC curve\n",
    "draw_roc(y_test,y_test_pred_class)"
   ]
  },
  {
   "cell_type": "markdown",
   "metadata": {},
   "source": [
    "### **Bernoulli Naive bayes.**"
   ]
  },
  {
   "cell_type": "code",
   "execution_count": 21,
   "metadata": {},
   "outputs": [],
   "source": [
    "bnb=BernoulliNB()"
   ]
  },
  {
   "cell_type": "code",
   "execution_count": 22,
   "metadata": {},
   "outputs": [
    {
     "data": {
      "text/plain": [
       "BernoulliNB()"
      ]
     },
     "execution_count": 22,
     "metadata": {},
     "output_type": "execute_result"
    }
   ],
   "source": [
    "# fitting bernoylii model\n",
    "bnb.fit(X_train_transformed,y_train)"
   ]
  },
  {
   "cell_type": "code",
   "execution_count": 23,
   "metadata": {},
   "outputs": [],
   "source": [
    "y_test_pred_bnb=bnb.predict(X_test_transformed)"
   ]
  },
  {
   "cell_type": "code",
   "execution_count": 24,
   "metadata": {},
   "outputs": [
    {
     "name": "stdout",
     "output_type": "stream",
     "text": [
      "accuracy =0.973086\n"
     ]
    }
   ],
   "source": [
    "# accuarcy\n",
    "accuracy_bnb=metrics.accuracy_score(y_test,y_test_pred_bnb)\n",
    "print('accuracy =%f'%accuracy_bnb)"
   ]
  },
  {
   "cell_type": "code",
   "execution_count": 25,
   "metadata": {},
   "outputs": [
    {
     "data": {
      "text/plain": [
       "array([[1441,    1],\n",
       "       [  44,  186]], dtype=int64)"
      ]
     },
     "execution_count": 25,
     "metadata": {},
     "output_type": "execute_result"
    }
   ],
   "source": [
    "# creating confusion matrix\n",
    "conf_mat_bnb=metrics.confusion_matrix(y_test,y_test_pred_bnb)\n",
    "conf_mat_bnb"
   ]
  },
  {
   "cell_type": "code",
   "execution_count": 26,
   "metadata": {},
   "outputs": [
    {
     "name": "stdout",
     "output_type": "stream",
     "text": [
      "accuracy =0.973086\n",
      "sensitivity = 0.808696\n",
      "specificity = 0.999307\n"
     ]
    }
   ],
   "source": [
    "# sensitivity and specificity \n",
    "sen=conf_mat_bnb[1,1]/(conf_mat_bnb[1,1]+conf_mat_bnb[1,0])\n",
    "spec=conf_mat_bnb[0,0]/(conf_mat_bnb[0,0]+conf_mat_bnb[0,1])\n",
    "print('accuracy =%f'%accuracy_bnb)\n",
    "print('sensitivity = %f'%sen)\n",
    "print('specificity = %f'%spec)"
   ]
  },
  {
   "cell_type": "code",
   "execution_count": 27,
   "metadata": {},
   "outputs": [],
   "source": [
    "auc_bnb=metrics.roc_auc_score(y_test,y_test_pred_bnb)"
   ]
  },
  {
   "cell_type": "code",
   "execution_count": 28,
   "metadata": {},
   "outputs": [
    {
     "data": {
      "image/png": "[encoded data removed]",
      "text/plain": [
       "<Figure size 432x288 with 1 Axes>"
      ]
     },
     "metadata": {
      "needs_background": "light"
     },
     "output_type": "display_data"
    }
   ],
   "source": [
    "draw_roc(y_test,y_test_pred_bnb)"
   ]
  },
  {
   "cell_type": "markdown",
   "metadata": {},
   "source": [
    "## Comparing multinominal and Bernoulli naive bayes models."
   ]
  },
  {
   "cell_type": "code",
   "execution_count": 29,
   "metadata": {},
   "outputs": [
    {
     "name": "stdout",
     "output_type": "stream",
     "text": [
      "             Multinominal          Bernoulli\n",
      "accuracy     0.986244019138756     0.9730861244019139\n",
      "sensitivity  0.9347826086956522    0.808695652173913\n",
      "specificity  0.9944521497919556    0.9993065187239945\n",
      "auc          0.964617379243804     0.9040010854489537\n"
     ]
    }
   ],
   "source": [
    "print('             Multinominal          Bernoulli')\n",
    "print(f'accuracy     {accuracy_test}     {accuracy_bnb}')\n",
    "print(f'sensitivity  {sensitivity_train}    {sen}')\n",
    "print(f'specificity  {specificity_train}    {spec}')\n",
    "print(f'auc          {auc_mult}     {auc_bnb}')"
   ]
  },
  {
   "cell_type": "markdown",
   "metadata": {},
   "source": [
    "**From the two models we can see that Bernoulli has high specificity and relatively low accuracy,sensitivity and auc score.**\n",
    "\n",
    "**But in this case we want to achieve high specificity i.e, we want the model to identify all the `ham` sms correctly, even at the expence of predecting the `spam` sms as `ham` sometimes. Here we do not want the model to misclassify ham as spam.**\n",
    "\n",
    "**Hence as per our requirement the best model would be Bernoulli even at the expence of accuracy,sensitivity and auc score.**\n",
    "\n",
    "**Bernoulli model correctly classifies `99.93%` of ham sms.**\n",
    "\n",
    "**Hence we can go ahead with this model and use it for classifying sms into spam or ham class.**"
   ]
  },
  {
   "cell_type": "code",
   "execution_count": null,
   "metadata": {},
   "outputs": [],
   "source": []
  }
 ],
 "metadata": {
  "kernelspec": {
   "display_name": "Python 3",
   "language": "python",
   "name": "python3"
  },
  "language_info": {
   "codemirror_mode": {
    "name": "ipython",
    "version": 3
   },
   "file_extension": ".py",
   "mimetype": "text/x-python",
   "name": "python",
   "nbconvert_exporter": "python",
   "pygments_lexer": "ipython3",
   "version": "3.8.5"
  }
 },
 "nbformat": 4,
 "nbformat_minor": 4
}
